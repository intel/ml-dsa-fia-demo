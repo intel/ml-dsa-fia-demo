{
 "cells": [
  {
   "cell_type": "markdown",
   "id": "7ec7ce1a-d299-41c8-ae27-2b3e79e2a9eb",
   "metadata": {},
   "source": [
    "# Attacker"
   ]
  },
  {
   "cell_type": "markdown",
   "id": "7148456f-fb91-47d8-a7ea-e37001cb5af1",
   "metadata": {},
   "source": [
    "## Imports"
   ]
  },
  {
   "cell_type": "code",
   "execution_count": 1,
   "id": "e11a7832-d61e-4762-b6e5-104264562fc0",
   "metadata": {},
   "outputs": [],
   "source": [
    "from attacker import Attacker\n",
    "\n",
    "from helper import DILITHIUM, FAULTY_SIG_FILE_PATH, FAULTY_SIGS_FILE_PATH, info"
   ]
  },
  {
   "cell_type": "markdown",
   "id": "88eecad4-afff-4486-99f8-3bb1b84097aa",
   "metadata": {},
   "source": [
    "## Verify"
   ]
  },
  {
   "cell_type": "code",
   "execution_count": 2,
   "id": "9c480d0f-c8c1-4acf-8778-b101d90abaf7",
   "metadata": {},
   "outputs": [
    {
     "name": "stdout",
     "output_type": "stream",
     "text": [
      "\u001b[32mverify(msg=\"Message 1\", sig=\"2bd16b43ea...\"): True\u001b[0m\n",
      "\u001b[31mverify(msg=\"Message X\", sig=\"2bd16b43ea...\"): False\u001b[0m\n"
     ]
    },
    {
     "data": {
      "text/plain": [
       "False"
      ]
     },
     "execution_count": 2,
     "metadata": {},
     "output_type": "execute_result"
    }
   ],
   "source": [
    "attacker = Attacker()\n",
    "attacker.load_pk()\n",
    "\n",
    "msg, sig = attacker.load_sig()\n",
    "attacker.verify(msg, sig)\n",
    "\n",
    "msg = b'Message X'\n",
    "attacker.verify(msg, sig)"
   ]
  },
  {
   "cell_type": "markdown",
   "id": "24926bf4-df94-487d-a6bc-a8794a901fb9",
   "metadata": {},
   "source": [
    "## Step 1: Recover the secret key vector `s1`\n",
    "#### Steps 1-A and 1-B achieve the same goal. You can solve any or both of them to continue to Step 2."
   ]
  },
  {
   "cell_type": "markdown",
   "id": "6161912c-d7be-4d90-91ff-2eec7958d0ff",
   "metadata": {},
   "source": [
    "### Step 1-A"
   ]
  },
  {
   "cell_type": "code",
   "execution_count": 3,
   "id": "a02a46e3-6a95-44e4-a2ee-80ac65a36a56",
   "metadata": {},
   "outputs": [
    {
     "name": "stdout",
     "output_type": "stream",
     "text": [
      "\u001b[32mverify(msg=\"Have fun solving this\", sig=\"b080da3109...\"): True\u001b[0m\n",
      "\u001b[32mCheck hash of recovered s1: True\u001b[0m\n"
     ]
    },
    {
     "data": {
      "text/plain": [
       "True"
      ]
     },
     "execution_count": 3,
     "metadata": {},
     "output_type": "execute_result"
    }
   ],
   "source": [
    "msg, sig = attacker.load_faulty_sig_y_all_coefficients_zero()\n",
    "attacker.verify(msg, sig)\n",
    "\n",
    "attacker.recover_s1_from_single_faulty_signature(sig)\n",
    "attacker.check_hash_of_recovered_s1()"
   ]
  },
  {
   "cell_type": "markdown",
   "id": "9453db74-61af-40ce-9bd8-14d304a7559b",
   "metadata": {},
   "source": [
    "### Step 1-B"
   ]
  },
  {
   "cell_type": "code",
   "execution_count": 4,
   "id": "48bc1a3f-9a4a-4551-bf7b-e7054e835ab0",
   "metadata": {},
   "outputs": [
    {
     "name": "stderr",
     "output_type": "stream",
     "text": [
      "Verifying 10 signatures: 100%|██████████| 10/10 [00:00<00:00, 119.42it/s]\n"
     ]
    },
    {
     "name": "stdout",
     "output_type": "stream",
     "text": [
      "\u001b[32mSuccessfully verified 10 signatures!\u001b[0m\n",
      "Verify(msgs, sigs): True\n",
      "\u001b[34mRecovering polynomial 0\u001b[0m\n"
     ]
    },
    {
     "name": "stderr",
     "output_type": "stream",
     "text": [
      "Constructing ILP from faulty sigs: 100%|██████████| 10/10 [00:00<00:00, 76.98it/s]\n"
     ]
    },
    {
     "name": "stdout",
     "output_type": "stream",
     "text": [
      "Solving ILP ...\n",
      "Done\n",
      "\u001b[34mRecovering polynomial 1\u001b[0m\n"
     ]
    },
    {
     "name": "stderr",
     "output_type": "stream",
     "text": [
      "Constructing ILP from faulty sigs: 100%|██████████| 10/10 [00:00<00:00, 51.63it/s]\n"
     ]
    },
    {
     "name": "stdout",
     "output_type": "stream",
     "text": [
      "Solving ILP ...\n",
      "Done\n",
      "\u001b[34mRecovering polynomial 2\u001b[0m\n"
     ]
    },
    {
     "name": "stderr",
     "output_type": "stream",
     "text": [
      "Constructing ILP from faulty sigs: 100%|██████████| 10/10 [00:00<00:00, 53.91it/s]\n"
     ]
    },
    {
     "name": "stdout",
     "output_type": "stream",
     "text": [
      "Solving ILP ...\n",
      "Done\n",
      "\u001b[34mRecovering polynomial 3\u001b[0m\n"
     ]
    },
    {
     "name": "stderr",
     "output_type": "stream",
     "text": [
      "Constructing ILP from faulty sigs: 100%|██████████| 10/10 [00:00<00:00, 49.45it/s]\n"
     ]
    },
    {
     "name": "stdout",
     "output_type": "stream",
     "text": [
      "Solving ILP ...\n",
      "Done\n",
      "\u001b[32mCheck hash of recovered s1: True\u001b[0m\n"
     ]
    },
    {
     "data": {
      "text/plain": [
       "True"
      ]
     },
     "execution_count": 4,
     "metadata": {},
     "output_type": "execute_result"
    }
   ],
   "source": [
    "msgs, sigs = attacker.load_faulty_sigs_y_some_coefficients_zero()\n",
    "result = attacker.verify_sigs(msgs, sigs, display_result=False)\n",
    "print(f'Verify(msgs, sigs): {result}')\n",
    "\n",
    "attacker.recover_s1_from_multiple_faulty_signatures(sigs)\n",
    "attacker.check_hash_of_recovered_s1()"
   ]
  },
  {
   "cell_type": "markdown",
   "id": "1cd9956b-2f90-4ecf-b2d6-afd6ab650421",
   "metadata": {},
   "source": [
    "## Step 2: Forge a signature\n",
    "#### Steps 2-A and 2-B achieve the same goal. You can solve any or both of them to continue to Step 3."
   ]
  },
  {
   "cell_type": "markdown",
   "id": "a74ea02e-1540-4f29-a679-9a11c1e701ae",
   "metadata": {},
   "source": [
    "### Step 2-A"
   ]
  },
  {
   "cell_type": "code",
   "execution_count": 5,
   "id": "38bc2d71-6444-4997-8c03-828518976f78",
   "metadata": {},
   "outputs": [
    {
     "name": "stdout",
     "output_type": "stream",
     "text": [
      "\u001b[32mverify(msg=\"Have fun solving this\", sig=\"b19a08607b...\"): True\u001b[0m\n"
     ]
    },
    {
     "data": {
      "text/plain": [
       "True"
      ]
     },
     "execution_count": 5,
     "metadata": {},
     "output_type": "execute_result"
    }
   ],
   "source": [
    "forged_sig = attacker.forge_signature(msg, method=Attacker.Algorithm.CHES2018)\n",
    "attacker.verify(msg, forged_sig)"
   ]
  },
  {
   "cell_type": "markdown",
   "id": "44c4b393-fe02-4256-90b4-b27e7669158a",
   "metadata": {},
   "source": [
    "### Step 2-B"
   ]
  },
  {
   "cell_type": "code",
   "execution_count": 6,
   "id": "62c060cf-b516-46e0-9fe9-a355008fbfe0",
   "metadata": {},
   "outputs": [
    {
     "name": "stdout",
     "output_type": "stream",
     "text": [
      "\u001b[32mverify(msg=\"Have fun solving this\", sig=\"b19a08607b...\"): True\u001b[0m\n"
     ]
    },
    {
     "data": {
      "text/plain": [
       "True"
      ]
     },
     "execution_count": 6,
     "metadata": {},
     "output_type": "execute_result"
    }
   ],
   "source": [
    "forged_sig = attacker.forge_signature(msg, method=Attacker.Algorithm.AsiaCCS2019)\n",
    "attacker.verify(msg, forged_sig)"
   ]
  }
 ],
 "metadata": {
  "kernelspec": {
   "display_name": "Python 3 (ipykernel)",
   "language": "python",
   "name": "python3"
  },
  "language_info": {
   "codemirror_mode": {
    "name": "ipython",
    "version": 3
   },
   "file_extension": ".py",
   "mimetype": "text/x-python",
   "name": "python",
   "nbconvert_exporter": "python",
   "pygments_lexer": "ipython3",
   "version": "3.12.3"
  }
 },
 "nbformat": 4,
 "nbformat_minor": 5
}
