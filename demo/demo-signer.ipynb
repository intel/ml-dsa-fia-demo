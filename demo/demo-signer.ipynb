{
 "cells": [
  {
   "cell_type": "markdown",
   "id": "4a1b04a0-0041-4b5e-a5d1-24280aa294b9",
   "metadata": {},
   "source": [
    "# ML-DSA FIA Demo: Signer\n",
    "**See the figures below for a graphical representation of the [Loop Abort Attack](https://eprint.iacr.org/2016/449.pdf) and [Loop Abort Strikes Back Attack](https://tches.iacr.org/index.php/TCHES/article/view/11170/10609).**\n",
    "\n",
    "**Relevant parameters in the last figure.**\n",
    "\n",
    "<img src=\"img/loop_abort_attack.png\" alt=\"Loop Abort Attack\" width=\"800\" />\n",
    "\n",
    "<img src=\"img/loop_abort_attack_strikes_back.png\" alt=\"Loop Abort Attack Strikes Back\" width=\"800\" />\n",
    "\n",
    "<img src=\"img/parameters.png\" alt=\"Parameters\" width=\"800\" />"
   ]
  },
  {
   "cell_type": "markdown",
   "id": "468980dc-4e08-4dd7-97a4-5c8eda7815b4",
   "metadata": {},
   "source": [
    "## Imports"
   ]
  },
  {
   "cell_type": "code",
   "execution_count": 1,
   "id": "97591f69-ca04-470b-b1c9-736d91c3f9ff",
   "metadata": {},
   "outputs": [],
   "source": [
    "from signer import Signer\n",
    "\n",
    "from helper import DILITHIUM, PK_FILE_PATH, SK_FILE_PATH, SIG_FILE_PATH, SIGS_FILE_PATH, \\\n",
    "    FAULTY_SIG_FILE_PATH, FAULTY_SIGS_FILE_PATH, \\\n",
    "    save_pk, save_sk, load_sk, save_msg_and_sig, save_msgs_and_sigs, info"
   ]
  },
  {
   "cell_type": "markdown",
   "id": "4d790b7e-28d8-4a9c-9f3d-7c89d8967fc7",
   "metadata": {},
   "source": [
    "## Signer"
   ]
  },
  {
   "cell_type": "code",
   "execution_count": 2,
   "id": "fc9a8d96-a75f-4289-bbd2-6ee8ba9b676b",
   "metadata": {},
   "outputs": [],
   "source": [
    "signer = Signer()"
   ]
  },
  {
   "cell_type": "markdown",
   "id": "6922c2e7-12c9-41f7-980e-f9bbc9ba79a2",
   "metadata": {},
   "source": [
    "### Sign and verify"
   ]
  },
  {
   "cell_type": "code",
   "execution_count": 3,
   "id": "0879266d-1554-48d1-af2c-22f85b121b75",
   "metadata": {},
   "outputs": [
    {
     "name": "stdout",
     "output_type": "stream",
     "text": [
      "\u001b[32mverify(msg=\"Message 1\", sig=\"0df39d898e...\"): True\u001b[0m\n"
     ]
    },
    {
     "data": {
      "text/plain": [
       "True"
      ]
     },
     "execution_count": 3,
     "metadata": {},
     "output_type": "execute_result"
    }
   ],
   "source": [
    "msg1 = b'Message 1'\n",
    "sig1 = signer.sign(msg1)\n",
    "signer.verify(msg1, sig1)"
   ]
  },
  {
   "cell_type": "markdown",
   "id": "9dffc62e-9304-4825-af1f-ee51b9a1c9c9",
   "metadata": {},
   "source": [
    "### Verify an invalid signature"
   ]
  },
  {
   "cell_type": "code",
   "execution_count": 4,
   "id": "439c80eb-4392-40c1-a813-fe619b441c5f",
   "metadata": {},
   "outputs": [
    {
     "name": "stdout",
     "output_type": "stream",
     "text": [
      "\u001b[31mverify(msg=\"Message 2\", sig=\"0df39d898e...\"): False\u001b[0m\n"
     ]
    },
    {
     "data": {
      "text/plain": [
       "False"
      ]
     },
     "execution_count": 4,
     "metadata": {},
     "output_type": "execute_result"
    }
   ],
   "source": [
    "msg2 = b'Message 2'\n",
    "signer.verify(msg2, sig1)"
   ]
  },
  {
   "cell_type": "markdown",
   "id": "79c3e33e-2611-41b2-9bff-a4828446f24b",
   "metadata": {},
   "source": [
    "## Step 3: Protect `faulty_sign` against these fault attacks\n",
    "<span style=\"color:red\">**Fix the code!**</red>"
   ]
  },
  {
   "cell_type": "code",
   "execution_count": 5,
   "id": "504380d9-94aa-481b-a72e-e01a063d0572",
   "metadata": {},
   "outputs": [],
   "source": [
    "def y_zero_count_rejection(y: list[int]) -> bool:\n",
    "    zero_count = 0\n",
    "\n",
    "    '''\n",
    "    Notes:\n",
    "        * Coefficients of the polynomials in y are sampled from [-DILITHIUM.gamma1, DILITHIUM.gamma1]\n",
    "        * What is the probability of encountering a 0 coefficient in a not-faulted signature?\n",
    "        * Set the value of `zero_count_threshold`\n",
    "    '''\n",
    "    # Remove or comment\n",
    "    raise Exception('Step 3: add your solution here')\n",
    "\n",
    "    # Set the value of `zero_count_threshold`\n",
    "    zero_count_threshold = DILITHIUM.l * DILITHIUM.k * DILITHIUM.n\n",
    "\n",
    "    for row in y.rows:\n",
    "        for p in row:\n",
    "            zero_count += p.coeffs.count(0)\n",
    "\n",
    "    if zero_count >= zero_count_threshold:\n",
    "        info(f'Possible fault detected (number of 0 coefficients in y: actual >= threshold): '\n",
    "             f'{zero_count:>4} >= {zero_count_threshold:>4}')\n",
    "        return True\n",
    "\n",
    "    return False"
   ]
  },
  {
   "cell_type": "code",
   "execution_count": 6,
   "id": "8c474b3f-c51d-43d5-bcf6-153a7015d65c",
   "metadata": {},
   "outputs": [
    {
     "name": "stdout",
     "output_type": "stream",
     "text": [
      "\u001b[34mPossible fault detected (number of 0 coefficients in y: actual >= threshold): 1024 >=    1\u001b[0m\n",
      "\u001b[34mPossible fault detected (number of 0 coefficients in y: actual >= threshold):  960 >=    1\u001b[0m\n",
      "\u001b[34mPossible fault detected (number of 0 coefficients in y: actual >= threshold):  896 >=    1\u001b[0m\n",
      "\u001b[34mPossible fault detected (number of 0 coefficients in y: actual >= threshold):  832 >=    1\u001b[0m\n",
      "\u001b[34mPossible fault detected (number of 0 coefficients in y: actual >= threshold):  768 >=    1\u001b[0m\n",
      "\u001b[34mPossible fault detected (number of 0 coefficients in y: actual >= threshold):  704 >=    1\u001b[0m\n",
      "\u001b[34mPossible fault detected (number of 0 coefficients in y: actual >= threshold):  640 >=    1\u001b[0m\n",
      "\u001b[34mPossible fault detected (number of 0 coefficients in y: actual >= threshold):  576 >=    1\u001b[0m\n",
      "\u001b[34mPossible fault detected (number of 0 coefficients in y: actual >= threshold):  512 >=    1\u001b[0m\n",
      "\u001b[34mPossible fault detected (number of 0 coefficients in y: actual >= threshold):  448 >=    1\u001b[0m\n",
      "\u001b[34mPossible fault detected (number of 0 coefficients in y: actual >= threshold):  384 >=    1\u001b[0m\n",
      "\u001b[34mPossible fault detected (number of 0 coefficients in y: actual >= threshold):  320 >=    1\u001b[0m\n",
      "\u001b[34mPossible fault detected (number of 0 coefficients in y: actual >= threshold):  256 >=    1\u001b[0m\n",
      "\u001b[34mPossible fault detected (number of 0 coefficients in y: actual >= threshold):  192 >=    1\u001b[0m\n",
      "\u001b[34mPossible fault detected (number of 0 coefficients in y: actual >= threshold):  128 >=    1\u001b[0m\n",
      "\u001b[34mPossible fault detected (number of 0 coefficients in y: actual >= threshold):   64 >=    1\u001b[0m\n",
      "\u001b[32mverify(msg=\"Have fun solving this\", sig=\"59a888dfb0...\"): True\u001b[0m\n"
     ]
    },
    {
     "data": {
      "text/plain": [
       "True"
      ]
     },
     "execution_count": 6,
     "metadata": {},
     "output_type": "execute_result"
    }
   ],
   "source": [
    "msg = b'Have fun solving this'\n",
    "sig = signer.faulty_sign(msg, protect=True, fault_detection_check_fn=y_zero_count_rejection)\n",
    "signer.verify(msg, sig)"
   ]
  }
 ],
 "metadata": {
  "kernelspec": {
   "display_name": "Python 3 (ipykernel)",
   "language": "python",
   "name": "python3"
  },
  "language_info": {
   "codemirror_mode": {
    "name": "ipython",
    "version": 3
   },
   "file_extension": ".py",
   "mimetype": "text/x-python",
   "name": "python",
   "nbconvert_exporter": "python",
   "pygments_lexer": "ipython3",
   "version": "3.12.3"
  }
 },
 "nbformat": 4,
 "nbformat_minor": 5
}
