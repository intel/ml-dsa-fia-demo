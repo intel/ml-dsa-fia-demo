{
 "cells": [
  {
   "cell_type": "markdown",
   "id": "3c7fe504-69be-428c-92ce-f95d7bcd8edb",
   "metadata": {},
   "source": [
    "# ML-DSA FIA Demo: Attacker\n",
    "**See the figures below for a graphical representation of the [Loop Abort Attack](https://eprint.iacr.org/2016/449.pdf) and [Loop Abort Strikes Back Attack](https://tches.iacr.org/index.php/TCHES/article/view/11170/10609).**\n",
    "\n",
    "**Relevant parameters in the last figure.**\n",
    "\n",
    "<img src=\"img/loop_abort_attack.png\" alt=\"Loop Abort Attack\" width=\"800\" />\n",
    "\n",
    "<img src=\"img/loop_abort_attack_strikes_back.png\" alt=\"Loop Abort Attack Strikes Back\" width=\"800\" />\n",
    "\n",
    "<img src=\"img/parameters.png\" alt=\"Parameters\" width=\"800\" />"
   ]
  },
  {
   "cell_type": "markdown",
   "id": "34037609-4d53-4b55-97dd-994322c20b2d",
   "metadata": {},
   "source": [
    "## Imports"
   ]
  },
  {
   "cell_type": "code",
   "execution_count": 1,
   "id": "6c7bf0cc-ca2c-4100-9399-81e25532eba7",
   "metadata": {},
   "outputs": [],
   "source": [
    "from attacker import Attacker\n",
    "\n",
    "from helper import DILITHIUM, FAULTY_SIG_FILE_PATH, FAULTY_SIGS_FILE_PATH, info\n",
    "\n",
    "import numpy as np\n",
    "\n",
    "from pulp import LpAffineExpression, LpBinary, LpConstraint, LpConstraintLE, LpConstraintGE, LpInteger, LpMaximize, \\\n",
    "    LpProblem, LpSolverDefault, LpStatusOptimal, lpSum, LpVariable\n",
    "\n",
    "from tqdm import tqdm\n",
    "\n",
    "# Turn off messages from ILP solver\n",
    "LpSolverDefault.msg = False"
   ]
  },
  {
   "cell_type": "markdown",
   "id": "93f3cf43-9962-4ac5-ba99-068312d7c62e",
   "metadata": {},
   "source": [
    "## Verify"
   ]
  },
  {
   "cell_type": "code",
   "execution_count": 2,
   "id": "e14bae62-1b14-4159-a9c4-9598a8c7004f",
   "metadata": {},
   "outputs": [],
   "source": [
    "attacker = Attacker()\n",
    "attacker.load_pk()"
   ]
  },
  {
   "cell_type": "markdown",
   "id": "89c3b588-2319-45c8-b01b-76e483e13de8",
   "metadata": {},
   "source": [
    "### Verify a valid signature"
   ]
  },
  {
   "cell_type": "code",
   "execution_count": 3,
   "id": "e4961253-70e1-4f62-8659-b33d1e26d717",
   "metadata": {},
   "outputs": [
    {
     "name": "stdout",
     "output_type": "stream",
     "text": [
      "\u001b[32mverify(msg=\"Message 1\", sig=\"2bd16b43ea...\"): True\u001b[0m\n"
     ]
    },
    {
     "data": {
      "text/plain": [
       "True"
      ]
     },
     "execution_count": 3,
     "metadata": {},
     "output_type": "execute_result"
    }
   ],
   "source": [
    "msg, sig = attacker.load_sig()\n",
    "attacker.verify(msg, sig)"
   ]
  },
  {
   "cell_type": "markdown",
   "id": "4c6e5687-81be-4ffe-af42-bed53cd71e9e",
   "metadata": {},
   "source": [
    "### Verify an invalid signature"
   ]
  },
  {
   "cell_type": "code",
   "execution_count": 4,
   "id": "2babc624-af3d-41dd-96b1-b454ea885d1f",
   "metadata": {},
   "outputs": [
    {
     "name": "stdout",
     "output_type": "stream",
     "text": [
      "\u001b[31mverify(msg=\"Message X\", sig=\"2bd16b43ea...\"): False\u001b[0m\n"
     ]
    },
    {
     "data": {
      "text/plain": [
       "False"
      ]
     },
     "execution_count": 4,
     "metadata": {},
     "output_type": "execute_result"
    }
   ],
   "source": [
    "msg = b'Message X'\n",
    "attacker.verify(msg, sig)"
   ]
  },
  {
   "cell_type": "markdown",
   "id": "88b9ae38-4326-4226-a152-787c68545969",
   "metadata": {},
   "source": [
    "## Step 1: Recover the secret key vector `s1`\n",
    "<span style=\"color:green\">**Steps 1-A and 1-B achieve the same goal. You can solve any or both of them to continue to Step 2.**</span>"
   ]
  },
  {
   "cell_type": "markdown",
   "id": "6b226402-1ad8-4ae2-a0e6-5cbdb8c29e1f",
   "metadata": {},
   "source": [
    "### Step 1-A"
   ]
  },
  {
   "cell_type": "markdown",
   "id": "782550d8-19ba-4cf9-a530-1b9370893218",
   "metadata": {},
   "source": [
    "#### Load a faulty signature that has all coefficients of all polynomials in `y` set to `0`"
   ]
  },
  {
   "cell_type": "code",
   "execution_count": 5,
   "id": "e9b297a6-b2d3-41cc-9bb4-897c143c0227",
   "metadata": {},
   "outputs": [
    {
     "name": "stdout",
     "output_type": "stream",
     "text": [
      "\u001b[32mverify(msg=\"Have fun solving this\", sig=\"b080da3109...\"): True\u001b[0m\n"
     ]
    },
    {
     "data": {
      "text/plain": [
       "True"
      ]
     },
     "execution_count": 5,
     "metadata": {},
     "output_type": "execute_result"
    }
   ],
   "source": [
    "msg, sig = attacker.load_faulty_sig_y_all_coefficients_zero()\n",
    "attacker.verify(msg, sig)"
   ]
  },
  {
   "cell_type": "markdown",
   "id": "2c6c1d88-0d70-4fa3-b0c4-36b6588ab25e",
   "metadata": {},
   "source": [
    "#### Recover `s1` from a single faulty signature `z = y + c * s1` where `y = 0`\n",
    "<span style=\"color:red\">**Fix the code!**</red>"
   ]
  },
  {
   "cell_type": "code",
   "execution_count": 6,
   "id": "371455ba-97dc-4b25-852a-9e742ea1a2fa",
   "metadata": {},
   "outputs": [],
   "source": [
    "def recover_s1_from_single_faulty_signature(faulty_sig: bytes) -> None:\n",
    "    c_tilde, z, _ = DILITHIUM._unpack_sig(faulty_sig)\n",
    "    c = DILITHIUM._sample_in_ball(c_tilde)\n",
    "\n",
    "    '''\n",
    "    Notes:\n",
    "        * A signature z = y + c * s_1\n",
    "        * A single faulty signature has y = 0\n",
    "        * Compute the inverse of a polynomial p using `p_inv = attacker.poly_inverse(p)`\n",
    "        * Multiply a vector of polynomials `v` by a polynomial using `v.scale(p)`\n",
    "    '''\n",
    "    \n",
    "    # Remove or comment\n",
    "    raise Exception('Step 1-A: add your solution here')\n",
    "\n",
    "    # Add your code here\n",
    "    s1 = None\n",
    "    \n",
    "    return s1"
   ]
  },
  {
   "cell_type": "markdown",
   "id": "0f7eee00-f054-4b0c-b02e-119637801796",
   "metadata": {},
   "source": [
    "#### Run `recover_s1_from_single_faulty_signature` and check the hash of the recovered `s1` against the hash of the expected `s1`"
   ]
  },
  {
   "cell_type": "code",
   "execution_count": 7,
   "id": "39eae328-bde6-4958-99c9-780da87f95a7",
   "metadata": {},
   "outputs": [
    {
     "name": "stdout",
     "output_type": "stream",
     "text": [
      "\u001b[32mCheck hash of recovered s1: True\u001b[0m\n"
     ]
    },
    {
     "data": {
      "text/plain": [
       "True"
      ]
     },
     "execution_count": 7,
     "metadata": {},
     "output_type": "execute_result"
    }
   ],
   "source": [
    "attacker.s1 = recover_s1_from_single_faulty_signature(sig)\n",
    "attacker.check_hash_of_recovered_s1()"
   ]
  },
  {
   "cell_type": "markdown",
   "id": "edca7c3e-a197-4553-8bfe-61d6a2f6f09c",
   "metadata": {},
   "source": [
    "### Step 1-B"
   ]
  },
  {
   "cell_type": "markdown",
   "id": "10feceec-e9a6-4f3a-9796-00bdef8f1ec7",
   "metadata": {},
   "source": [
    "#### Load multiple faulty signatures that have some coefficients of the polynomials in `y` set to `0`"
   ]
  },
  {
   "cell_type": "code",
   "execution_count": 8,
   "id": "3dc3b807-3ae1-4c50-9a94-2f494e36f122",
   "metadata": {},
   "outputs": [
    {
     "name": "stderr",
     "output_type": "stream",
     "text": [
      "Verifying 10 signatures: 100%|██████████| 10/10 [00:00<00:00, 119.72it/s]"
     ]
    },
    {
     "name": "stdout",
     "output_type": "stream",
     "text": [
      "\u001b[32mSuccessfully verified 10 signatures!\u001b[0m\n"
     ]
    }
   ],
   "source": [
    "msgs, sigs = attacker.load_faulty_sigs_y_some_coefficients_zero()\n",
    "result = attacker.verify_sigs(msgs, sigs, display_result=False)"
   ]
  },
  {
   "cell_type": "markdown",
   "id": "f5bd9628-1c33-4b43-9dec-f4421c8d84f8",
   "metadata": {},
   "source": [
    "#### Recover `s1` from multiple signatures `z = y + c * s1` where each `y` has some polynomial coefficients set to `0`\n",
    "<span style=\"color:red\">**Fix the code!**</red>"
   ]
  },
  {
   "cell_type": "code",
   "execution_count": 9,
   "id": "59d1e3e0-d1fd-4aef-aed1-2c8342ad191d",
   "metadata": {},
   "outputs": [],
   "source": [
    "def recover_s1_from_multiple_faulty_signatures(faulty_sigs: list[bytes]) -> None:\n",
    "    s1 = []\n",
    "    for poly_idx in range(DILITHIUM.l):\n",
    "        info(f'Recovering polynomial {poly_idx}')\n",
    "        solution = recover_single_poly(faulty_sigs, poly_idx)\n",
    "        poly = [DILITHIUM.R(solution)]\n",
    "        s1.append(poly)\n",
    "    s1 = DILITHIUM.M(s1)\n",
    "    return s1\n",
    "\n",
    "def recover_single_poly(faulty_sigs: list[bytes], poly_idx: int = 0) -> list[int]:\n",
    "        # The paper suggests setting K to 2 * beta + gamma_1, but it can be gamma_1\n",
    "        # K = 2 * DILITHIUM.beta + DILITHIUM.gamma_1\n",
    "        K = DILITHIUM.gamma_1\n",
    "        eta = DILITHIUM.eta\n",
    "\n",
    "        model = LpProblem(name='dilithium-ilp', sense=LpMaximize)\n",
    "        # Create variables for the secrets\n",
    "        num_secrets = DILITHIUM.n\n",
    "        s = [LpVariable(f's_{i}', -eta, eta, LpInteger) for i in range(num_secrets)]\n",
    "\n",
    "        eq_idx = 0\n",
    "        x = []\n",
    "        for sig in tqdm(faulty_sigs, desc='Constructing ILP from faulty sigs'):\n",
    "            # Recover the c from the signature\n",
    "            c_tilde, z, h = DILITHIUM._unpack_sig(sig)\n",
    "            c = DILITHIUM._sample_in_ball(c_tilde)\n",
    "            c = np.asarray(c.coeffs)[::-1]\n",
    "\n",
    "            z_target = z[poly_idx][0].coeffs\n",
    "            for j, z_val in enumerate(z_target):\n",
    "                if abs(z_val) > DILITHIUM.beta:\n",
    "                    continue\n",
    "                # Add constraint for each faulty candidate coefficient\n",
    "                row = np.hstack([c[-(j + 1):], -c[: -(j + 1)]])\n",
    "                # Sign of lhs is flipped for convenience, but should not affect results\n",
    "                lhs = LpAffineExpression(zip(s, row), -z_val)\n",
    "                var = LpVariable(f'x_{eq_idx}', cat=LpBinary)\n",
    "                rhs = K * (1 - var)\n",
    "\n",
    "                '''\n",
    "                Notes:\n",
    "                    * The ILP constraints\n",
    "                        * Constraint 1: z_m - C_m * s <= K * (1 - x_m)\n",
    "                        * Constraint 2: z_m - C_m * s >= -K * (1 - x_m)\n",
    "                    * Terms\n",
    "                      * `lhs` is z_m - C_m * s\n",
    "                      * `rhs` is K * (1 - x_m)\n",
    "                    * Specify constraints\n",
    "                        * For `expression <= 0` use `LpConstraint(expression, LpConstraintLE)`\n",
    "                        * For `expression >= 0` use `LpConstraint(expression, LpConstraintGE)`\n",
    "                '''\n",
    "\n",
    "                # Remove or comment\n",
    "                raise Exception('Step 1-B: add your solution here')\n",
    "\n",
    "                # Add your code here\n",
    "                c1 = None\n",
    "                c2 = None\n",
    "                \n",
    "                model.addConstraint(c1, f'eqn {eq_idx} constraint 1')\n",
    "                model.addConstraint(c2, f'eqn {eq_idx} constraint 2')\n",
    "\n",
    "                # Add the var for this equation to overall list\n",
    "                x.append(var)\n",
    "                eq_idx += 1\n",
    "\n",
    "        # Objective - maximize number of satisfied equations\n",
    "        model += lpSum(x)\n",
    "\n",
    "        s_sol = None\n",
    "        print('Solving ILP ...', end=None)\n",
    "        model.solve()\n",
    "        print('Done')\n",
    "        if model.status == LpStatusOptimal:\n",
    "            s_sol = [int(var.value()) for var in s]\n",
    "\n",
    "        return s_sol"
   ]
  },
  {
   "cell_type": "markdown",
   "id": "7d370318-5e25-47b0-8756-ae63cbf6d8ba",
   "metadata": {},
   "source": [
    "#### Run `recover_s1_from_multiple_faulty_signatures` and check the hash of the recovered `s1` against the hash of the expected `s1`"
   ]
  },
  {
   "cell_type": "code",
   "execution_count": 10,
   "id": "ee756796-351d-41d5-9811-47e8ada4d0db",
   "metadata": {},
   "outputs": [
    {
     "name": "stdout",
     "output_type": "stream",
     "text": [
      "\u001b[34mRecovering polynomial 0\u001b[0m\n"
     ]
    },
    {
     "name": "stderr",
     "output_type": "stream",
     "text": [
      "Constructing ILP from faulty sigs: 100%|██████████| 10/10 [00:00<00:00, 76.03it/s]"
     ]
    },
    {
     "name": "stdout",
     "output_type": "stream",
     "text": [
      "Solving ILP ...\n"
     ]
    },
    {
     "name": "stdout",
     "output_type": "stream",
     "text": [
      "Done\n",
      "\u001b[34mRecovering polynomial 1\u001b[0m\n"
     ]
    },
    {
     "name": "stderr",
     "output_type": "stream",
     "text": [
      "Constructing ILP from faulty sigs: 100%|██████████| 10/10 [00:00<00:00, 56.47it/s]"
     ]
    },
    {
     "name": "stdout",
     "output_type": "stream",
     "text": [
      "Solving ILP ...\n"
     ]
    },
    {
     "name": "stdout",
     "output_type": "stream",
     "text": [
      "Done\n",
      "\u001b[34mRecovering polynomial 2\u001b[0m\n"
     ]
    },
    {
     "name": "stderr",
     "output_type": "stream",
     "text": [
      "Constructing ILP from faulty sigs: 100%|██████████| 10/10 [00:00<00:00, 70.02it/s]"
     ]
    },
    {
     "name": "stdout",
     "output_type": "stream",
     "text": [
      "Solving ILP ...\n"
     ]
    },
    {
     "name": "stdout",
     "output_type": "stream",
     "text": [
      "Done\n",
      "\u001b[34mRecovering polynomial 3\u001b[0m\n"
     ]
    },
    {
     "name": "stderr",
     "output_type": "stream",
     "text": [
      "Constructing ILP from faulty sigs: 100%|██████████| 10/10 [00:00<00:00, 72.52it/s]"
     ]
    },
    {
     "name": "stdout",
     "output_type": "stream",
     "text": [
      "Solving ILP ...\n"
     ]
    },
    {
     "name": "stdout",
     "output_type": "stream",
     "text": [
      "Done\n",
      "\u001b[32mCheck hash of recovered s1: True\u001b[0m\n"
     ]
    },
    {
     "data": {
      "text/plain": [
       "True"
      ]
     },
     "execution_count": 10,
     "metadata": {},
     "output_type": "execute_result"
    }
   ],
   "source": [
    "attacker.s1 = recover_s1_from_multiple_faulty_signatures(sigs)\n",
    "attacker.check_hash_of_recovered_s1()"
   ]
  },
  {
   "cell_type": "markdown",
   "id": "db2b20b8-f615-4e74-9e0d-05fe4252a630",
   "metadata": {},
   "source": [
    "## Step 2: Forge a signature\n",
    "<span style=\"color:green\">**Steps 2-A and 2-B achieve the same goal. You can solve any or both of them to continue to Step 3.**</span>"
   ]
  },
  {
   "cell_type": "markdown",
   "id": "d64e2764-a020-4904-b730-f1c4ce1496c3",
   "metadata": {},
   "source": [
    "### Step 2-A: Forge a signature using the algorithm presented at CHES 2018\n",
    "<span style=\"color:red\">**Fix the code!**</red>"
   ]
  },
  {
   "cell_type": "code",
   "execution_count": 11,
   "id": "d7dd62a0-9c03-4e81-a422-a9e28ff57737",
   "metadata": {},
   "outputs": [],
   "source": [
    "def forge_signature_ches2018(msg: bytes) -> bytes:\n",
    "    pk = attacker.pk\n",
    "    s1 = attacker.s1\n",
    "    m = msg\n",
    "\n",
    "    # unpack the public key\n",
    "    rho, t1 = DILITHIUM._unpack_pk(pk)\n",
    "\n",
    "    # Generate matrix A ∈ R^(kxl)\n",
    "    A = DILITHIUM._expandA(rho, is_ntt=True)\n",
    "\n",
    "    # Compute hash of the public key\n",
    "    tr = DILITHIUM._h(pk, 32)\n",
    "\n",
    "    # Set seeds and nonce (kappa)\n",
    "    mu = DILITHIUM._h(tr + m, 64)\n",
    "    kappa = 0\n",
    "    rho_prime = DILITHIUM._h(mu, 64)\n",
    "\n",
    "    # Precompute NTT representation\n",
    "    s1_hat = s1.copy_to_ntt()\n",
    "    s1 = s1.copy_to_ntt()\n",
    "\n",
    "    # Compute u\n",
    "    u = (A @ s1_hat).from_ntt() - t1.scale(1 << DILITHIUM.d)\n",
    "\n",
    "    alpha = DILITHIUM.gamma_2 << 1\n",
    "    while True:\n",
    "        y = DILITHIUM._expandMask(rho_prime, kappa)\n",
    "        y_hat = y.copy_to_ntt()\n",
    "\n",
    "        kappa += DILITHIUM.l\n",
    "\n",
    "        w = (A @ y_hat).from_ntt()\n",
    "\n",
    "        # Extract out both the high and low bits\n",
    "        w1, w0 = w.decompose(alpha)\n",
    "\n",
    "        # Create challenge polynomial\n",
    "        w1_bytes = w1.bit_pack_w(DILITHIUM.gamma_2)\n",
    "        c_tilde = DILITHIUM._h(mu + w1_bytes, 32)\n",
    "        c = DILITHIUM._sample_in_ball(c_tilde)\n",
    "\n",
    "        # Store c in NTT form\n",
    "        c_hat = c.copy_to_ntt()\n",
    "\n",
    "        z = y + s1.scale(c_hat).from_ntt()\n",
    "\n",
    "        if z.check_norm_bound(DILITHIUM.gamma_1 - DILITHIUM.beta):\n",
    "            continue\n",
    "\n",
    "        '''\n",
    "        Notes:\n",
    "            * Hint h = MakeHint(w_0 - c * s_2 + c * t_0, w_1)\n",
    "            * u = A * s_1 - t_1 * 2 ** d = t_0 - s_2\n",
    "            * x = w_0 - c * s_2 + c * t_0 = w_0 + c * (t_0 - s_2) = w_0 + c * u\n",
    "            * Multiply a vector of polynomials `v` by a polynomial using `v.scale(p)`\n",
    "        '''\n",
    "\n",
    "        # Remove or comment\n",
    "        raise Exception('Step 2-A: add your solution here')\n",
    "\n",
    "        # Add your code here to compute `x` as w_0 + c * u. Polynomial `c` and vector `u` are defined/computed\n",
    "        # in the code above this line.\n",
    "        x = w0\n",
    "        \n",
    "        x.reduce_coefficents()\n",
    "        h = DILITHIUM._make_hint(x, w1, alpha)\n",
    "\n",
    "        sig_bytes = DILITHIUM._pack_sig(c_tilde, z, h)\n",
    "\n",
    "        if not DILITHIUM.verify(pk, m, sig_bytes):\n",
    "            continue\n",
    "\n",
    "        return sig_bytes"
   ]
  },
  {
   "cell_type": "markdown",
   "id": "2b649f86-31d4-46e3-b6f4-a552c625365b",
   "metadata": {},
   "source": [
    "#### Run `forge_signature_ches2018` and verify the generated signature"
   ]
  },
  {
   "cell_type": "code",
   "execution_count": 12,
   "id": "d417f30d-4099-4270-85d6-cb1e0f0d23ef",
   "metadata": {},
   "outputs": [
    {
     "name": "stdout",
     "output_type": "stream",
     "text": [
      "\u001b[32mverify(msg=\"This is fun\", sig=\"a7a4e83417...\"): True\u001b[0m\n"
     ]
    },
    {
     "data": {
      "text/plain": [
       "True"
      ]
     },
     "execution_count": 12,
     "metadata": {},
     "output_type": "execute_result"
    }
   ],
   "source": [
    "msg = b'This is fun'\n",
    "forged_sig = forge_signature_ches2018(msg)\n",
    "attacker.verify(msg, forged_sig)"
   ]
  },
  {
   "cell_type": "markdown",
   "id": "fca3c928-3c2e-4660-8193-d89e73b98190",
   "metadata": {},
   "source": [
    "### Step 2-B: Forge a signature using the algorithm presented at AsiaCCS 2019\n",
    "<span style=\"color:red\">**Fix the code!**</red>"
   ]
  },
  {
   "cell_type": "code",
   "execution_count": 13,
   "id": "1505d3b5-a3cd-4e88-9952-18c6d263f5c7",
   "metadata": {},
   "outputs": [],
   "source": [
    "def forge_signature_asiaccs2019(msg: bytes) -> bytes:\n",
    "    pk = attacker.pk\n",
    "    s1 = attacker.s1\n",
    "    m = msg\n",
    "\n",
    "    # unpack the public key\n",
    "    rho, t1 = DILITHIUM._unpack_pk(pk)\n",
    "\n",
    "    # Generate matrix A ∈ R^(kxl)\n",
    "    A = DILITHIUM._expandA(rho, is_ntt=True)\n",
    "\n",
    "    # Compute hash of the public key\n",
    "    tr = DILITHIUM._h(pk, 32)\n",
    "\n",
    "    # Set seeds and nonce (kappa)\n",
    "    mu = DILITHIUM._h(tr + m, 64)\n",
    "    kappa = 0\n",
    "    rho_prime = DILITHIUM._h(mu, 64)\n",
    "\n",
    "    # Precompute NTT representation\n",
    "    s1_hat = s1.copy_to_ntt()\n",
    "\n",
    "    t1_prime = t1.scale(1 << DILITHIUM.d)\n",
    "    t1_prime = t1_prime.to_ntt()\n",
    "\n",
    "    alpha = DILITHIUM.gamma_2 << 1\n",
    "    while True:\n",
    "        y = DILITHIUM._expandMask(rho_prime, kappa)\n",
    "        y_hat = y.copy_to_ntt()\n",
    "\n",
    "        kappa += DILITHIUM.l\n",
    "\n",
    "        w = (A @ y_hat).from_ntt()\n",
    "\n",
    "        # Extract out both the high and low bits\n",
    "        w1, w0 = w.decompose(alpha)\n",
    "\n",
    "        # Create challenge polynomial\n",
    "        w1_bytes = w1.bit_pack_w(DILITHIUM.gamma_2)\n",
    "        c_tilde = DILITHIUM._h(mu + w1_bytes, 32)\n",
    "        c = DILITHIUM._sample_in_ball(c_tilde)\n",
    "\n",
    "        # Store c in NTT form\n",
    "        c.to_ntt()\n",
    "\n",
    "        z = y + s1_hat.scale(c).from_ntt()\n",
    "\n",
    "        if z.check_norm_bound(DILITHIUM.gamma_1 - DILITHIUM.beta):\n",
    "            continue\n",
    "\n",
    "        z = z.to_ntt()\n",
    "\n",
    "        matrix = [[DILITHIUM.R([0 for _ in range(DILITHIUM.n)])] for _ in range(DILITHIUM.k)]\n",
    "        h = DILITHIUM.M(matrix)\n",
    "\n",
    "        '''\n",
    "        Notes:\n",
    "            * w_{1}^{'} = UseHint(h, w_{approx}^{'})\n",
    "            * w_{approx}^{'} = A * z - c * t_1 * 2 ** d\n",
    "            * Multiply a vector of polynomials `v` by a polynomial using `v.scale(p)`\n",
    "        '''\n",
    "        # Remove or comment\n",
    "        raise Exception('Step 2-B: add your solution here')\n",
    "\n",
    "        # Add your code here to compute `wa_prime` as A * z - c * t_1 * 2 ** d. Polynomial `c` and\n",
    "        # vector `t1_prime` (equal to t_1 * 2 ** d) are defined/computed in the code above this line.\n",
    "        wa_prime = (A @ z)\n",
    "        \n",
    "        wa_prime.from_ntt()\n",
    "        w1_prime = DILITHIUM._use_hint(h, wa_prime, alpha)\n",
    "        for i in range(0, DILITHIUM.k):\n",
    "            for j in range(0, DILITHIUM.n):\n",
    "                if w1_prime[i][0].coeffs[j] != w1[i][0].coeffs[j]:\n",
    "                    h[i][0].coeffs[j] = 1\n",
    "\n",
    "        w1_prime = DILITHIUM._use_hint(h, wa_prime, alpha)\n",
    "        if w1_prime != w1 or DILITHIUM._sum_hint(h) > DILITHIUM.omega:\n",
    "            continue\n",
    "\n",
    "        z = z.from_ntt().from_montgomery()\n",
    "\n",
    "        return DILITHIUM._pack_sig(c_tilde, z, h)"
   ]
  },
  {
   "cell_type": "markdown",
   "id": "ea5053ae-5127-4e4b-a297-7f1d74192598",
   "metadata": {},
   "source": [
    "#### Run `forge_signature_asiaccs2019` and verify the generated signature"
   ]
  },
  {
   "cell_type": "code",
   "execution_count": 14,
   "id": "2f7cb7d4-c086-4d0b-ae1f-1550434e24a8",
   "metadata": {},
   "outputs": [
    {
     "name": "stdout",
     "output_type": "stream",
     "text": [
      "\u001b[32mverify(msg=\"This is fun\", sig=\"a7a4e83417...\"): True\u001b[0m\n"
     ]
    },
    {
     "data": {
      "text/plain": [
       "True"
      ]
     },
     "execution_count": 14,
     "metadata": {},
     "output_type": "execute_result"
    }
   ],
   "source": [
    "msg = b'This is fun'\n",
    "forged_sig = forge_signature_asiaccs2019(msg)\n",
    "attacker.verify(msg, forged_sig)"
   ]
  }
 ],
 "metadata": {
  "kernelspec": {
   "display_name": "Python 3 (ipykernel)",
   "language": "python",
   "name": "python3"
  },
  "language_info": {
   "codemirror_mode": {
    "name": "ipython",
    "version": 3
   },
   "file_extension": ".py",
   "mimetype": "text/x-python",
   "name": "python",
   "nbconvert_exporter": "python",
   "pygments_lexer": "ipython3",
   "version": "3.12.3"
  }
 },
 "nbformat": 4,
 "nbformat_minor": 5
}
