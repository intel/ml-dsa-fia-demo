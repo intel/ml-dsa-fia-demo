{
 "cells": [
  {
   "cell_type": "markdown",
   "id": "2b5911b7-4c7e-4bea-839f-07969f4f7938",
   "metadata": {},
   "source": [
    "# Signer"
   ]
  },
  {
   "cell_type": "markdown",
   "id": "7cf0f235-18f7-4679-8b7f-f6a82452aaf2",
   "metadata": {},
   "source": [
    "## Imports"
   ]
  },
  {
   "cell_type": "code",
   "execution_count": 1,
   "id": "45aac91f-b6ad-4310-b4a0-9a9ca2ec5993",
   "metadata": {},
   "outputs": [],
   "source": [
    "from signer import Signer\n",
    "\n",
    "from helper import PK_FILE_PATH, SK_FILE_PATH, SIG_FILE_PATH, SIGS_FILE_PATH, FAULTY_SIG_FILE_PATH, FAULTY_SIGS_FILE_PATH, save_pk, save_sk, load_sk, save_msg_and_sig, save_msgs_and_sigs"
   ]
  },
  {
   "cell_type": "markdown",
   "id": "57c82835-f0b9-4db9-bc9e-2d9cac75f7cd",
   "metadata": {},
   "source": [
    "## Sign and verify"
   ]
  },
  {
   "cell_type": "code",
   "execution_count": 2,
   "id": "5248e3ff-fe2e-40b3-b8bb-41949fcad879",
   "metadata": {},
   "outputs": [
    {
     "name": "stdout",
     "output_type": "stream",
     "text": [
      "\u001b[32mverify(msg=\"Message 1\", sig=\"88f0b385b2...\"): True\u001b[0m\n",
      "\u001b[31mverify(msg=\"Message 2\", sig=\"88f0b385b2...\"): False\u001b[0m\n"
     ]
    },
    {
     "data": {
      "text/plain": [
       "False"
      ]
     },
     "execution_count": 2,
     "metadata": {},
     "output_type": "execute_result"
    }
   ],
   "source": [
    "msg1 = b'Message 1'\n",
    "msg2 = b'Message 2'\n",
    "msg3 = b'Have fun solving this'\n",
    "\n",
    "signer = Signer()\n",
    "\n",
    "# signer.save_keys()\n",
    "# signer.load_keys()\n",
    "\n",
    "sig1 = signer.sign(msg1)\n",
    "\n",
    "# signer.save_sig(msg1, sig1)\n",
    "# msg1, sig1 = signer.load_sig()\n",
    "\n",
    "signer.verify(msg1, sig1)\n",
    "signer.verify(msg2, sig1)"
   ]
  },
  {
   "cell_type": "markdown",
   "id": "370cf110-59f9-429d-aaba-2f1f6c6d9203",
   "metadata": {},
   "source": [
    "## Generate a faulty signature with all coefficients in `y` set to `0`\n",
    "### Used by Step 1-A"
   ]
  },
  {
   "cell_type": "raw",
   "id": "9d379b37-162f-4748-854a-9cebe9cf779f",
   "metadata": {
    "scrolled": true
   },
   "source": [
    "# sig3 = signer.faulty_sign(msg3)\n",
    "# signer.save_sig(msg3, sig3, FAULTY_SIG_FILE_PATH)\n",
    "# msg3, sig3 = signer.load_sig(FAULTY_SIG_FILE_PATH)\n",
    "# signer.verify(msg3, sig3)"
   ]
  },
  {
   "cell_type": "markdown",
   "id": "b07b5aa1-a8b7-41a0-bc6e-3751f167c051",
   "metadata": {},
   "source": [
    "## Generate `num_sigs` faulty signatures, each with `num_zeros` coefficients in `y` set to `0`\n",
    "### Used by Step 1-B"
   ]
  },
  {
   "cell_type": "raw",
   "id": "390c7aab-c362-445a-b670-90235ad7a41d",
   "metadata": {},
   "source": [
    "# msgs, sigs = signer.gen_msgs_and_faulty_sigs(num_zeros=128)\n",
    "# signer.save_msgs_and_sigs(msgs, sigs, FAULTY_SIGS_FILE_PATH)\n",
    "# msgs, sigs = signer.load_sigs(FAULTY_SIGS_FILE_PATH)\n",
    "# signer.verify_sigs(msgs, sigs)"
   ]
  },
  {
   "cell_type": "markdown",
   "id": "0c7bfd26-df73-45fd-9f25-aa4d603d5284",
   "metadata": {},
   "source": [
    "## Step 3: Protect `faulty_sign` against this fault attack"
   ]
  },
  {
   "cell_type": "code",
   "execution_count": 3,
   "id": "29d233bc-28c9-4396-93ac-7b3cb075abe8",
   "metadata": {},
   "outputs": [
    {
     "name": "stdout",
     "output_type": "stream",
     "text": [
      "\u001b[34mPossible fault detected (number of 0 coefficients in y: actual >= threshold): 1024 >=    1\u001b[0m\n",
      "\u001b[34mPossible fault detected (number of 0 coefficients in y: actual >= threshold):  960 >=    1\u001b[0m\n",
      "\u001b[34mPossible fault detected (number of 0 coefficients in y: actual >= threshold):  896 >=    1\u001b[0m\n",
      "\u001b[34mPossible fault detected (number of 0 coefficients in y: actual >= threshold):  832 >=    1\u001b[0m\n",
      "\u001b[34mPossible fault detected (number of 0 coefficients in y: actual >= threshold):  768 >=    1\u001b[0m\n",
      "\u001b[34mPossible fault detected (number of 0 coefficients in y: actual >= threshold):  704 >=    1\u001b[0m\n",
      "\u001b[34mPossible fault detected (number of 0 coefficients in y: actual >= threshold):  640 >=    1\u001b[0m\n",
      "\u001b[34mPossible fault detected (number of 0 coefficients in y: actual >= threshold):  576 >=    1\u001b[0m\n",
      "\u001b[34mPossible fault detected (number of 0 coefficients in y: actual >= threshold):  512 >=    1\u001b[0m\n",
      "\u001b[34mPossible fault detected (number of 0 coefficients in y: actual >= threshold):  448 >=    1\u001b[0m\n",
      "\u001b[34mPossible fault detected (number of 0 coefficients in y: actual >= threshold):  384 >=    1\u001b[0m\n",
      "\u001b[34mPossible fault detected (number of 0 coefficients in y: actual >= threshold):  320 >=    1\u001b[0m\n",
      "\u001b[34mPossible fault detected (number of 0 coefficients in y: actual >= threshold):  256 >=    1\u001b[0m\n",
      "\u001b[34mPossible fault detected (number of 0 coefficients in y: actual >= threshold):  192 >=    1\u001b[0m\n",
      "\u001b[34mPossible fault detected (number of 0 coefficients in y: actual >= threshold):  128 >=    1\u001b[0m\n",
      "\u001b[34mPossible fault detected (number of 0 coefficients in y: actual >= threshold):   64 >=    1\u001b[0m\n",
      "\u001b[32mverify(msg=\"Have fun solving this\", sig=\"247813da93...\"): True\u001b[0m\n"
     ]
    },
    {
     "data": {
      "text/plain": [
       "True"
      ]
     },
     "execution_count": 3,
     "metadata": {},
     "output_type": "execute_result"
    }
   ],
   "source": [
    "sig = signer.faulty_sign(msg3, protect=True)\n",
    "signer.verify(msg3, sig)"
   ]
  }
 ],
 "metadata": {
  "kernelspec": {
   "display_name": "Python 3 (ipykernel)",
   "language": "python",
   "name": "python3"
  },
  "language_info": {
   "codemirror_mode": {
    "name": "ipython",
    "version": 3
   },
   "file_extension": ".py",
   "mimetype": "text/x-python",
   "name": "python",
   "nbconvert_exporter": "python",
   "pygments_lexer": "ipython3",
   "version": "3.12.3"
  }
 },
 "nbformat": 4,
 "nbformat_minor": 5
}
